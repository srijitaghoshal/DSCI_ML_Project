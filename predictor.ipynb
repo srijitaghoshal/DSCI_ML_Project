{
 "cells": [
  {
   "cell_type": "code",
   "execution_count": null,
   "metadata": {},
   "outputs": [],
   "source": [
    "import pandas as pd\n",
    "import yfinance as yf\n",
    "import pandas_ta as ta\n",
    "import numpy as np\n",
    "from sklearn.preprocessing import MinMaxScaler\n",
    "from tensorflow.keras.models import Sequential\n",
    "from tensorflow.keras.layers import LSTM, Dense, BatchNormalization\n",
    "\n",
    "def import_data(stock, timeframe):\n",
    "    data = yf.download(stock, period=\"2y\", interval='1d')\n",
    "    data.columns = data.columns.get_level_values(0)\n",
    "    data['EMA_50'] = ta.ema(data['Close'], length=50)\n",
    "    data['EMA_200'] = ta.ema(data['Close'], length=200)\n",
    "    data['SMA_50'] = ta.sma(data['Close'], length=50)\n",
    "    data['SMA_200'] = ta.sma(data['Close'], length=200)\n",
    "    data['RSI'] = ta.rsi(data['Close'], length=14)\n",
    "    data['Pct_Change'] = data['Close'].pct_change(periods=timeframe).shift(-timeframe)  # Percent change over X days\n",
    "    data.dropna(inplace=True)  # Remove any rows with NaN values\n",
    "    return data\n",
    "\n",
    "def prepare_lstm_data(data, feature_columns, target_column, time_steps=60):\n",
    "    X = []\n",
    "    Y = []\n",
    "    for i in range(time_steps, len(data) - 5):  # Ensure we have future data for Y\n",
    "        X.append(data[feature_columns].iloc[i - time_steps:i].values)\n",
    "        Y.append(data[target_column].iloc[i])\n",
    "    return np.array(X), np.array(Y)\n",
    "\n",
    "def build_training_data(tickers, timeframe):\n",
    "    # sp500_url = 'https://en.wikipedia.org/wiki/List_of_S%26P_500_companies'\n",
    "    # sp500_table = pd.read_html(sp500_url)\n",
    "    # TICKERS = sp500_table[0]['Symbol'].tolist()\n",
    "\n",
    "    # # Select a subset for faster testing\n",
    "    # TICKERS = TICKERS[:10]  # Adjust as needed\n",
    "\n",
    "    # Prepare data for training\n",
    "    feature_columns = ['Close', 'EMA_50', 'EMA_200', 'SMA_50', 'SMA_200', 'RSI']\n",
    "    X_train = []\n",
    "    Y_train = []\n",
    "    X_test = []\n",
    "    Y_test = []\n",
    "    time_steps = 60  # Number of time steps for LSTM\n",
    "    scaler = MinMaxScaler()\n",
    "\n",
    "    for ticker in tickers:\n",
    "        # print(f\"Processing {ticker}...\")\n",
    "        try:\n",
    "            data = import_data(ticker, timeframe)\n",
    "            data[feature_columns] = scaler.fit_transform(data[feature_columns])\n",
    "            X, Y = prepare_lstm_data(data, feature_columns, 'Pct_Change', time_steps)\n",
    "            if len(X) > 0 and len(Y) > 0:\n",
    "                # length = len(X)\n",
    "                # index = 0.8*length\n",
    "                # X_train.extend(X[:index])\n",
    "                # Y_train.extend(Y[:index])\n",
    "                # X_test.extend(X[index:])\n",
    "                # Y_test.extend(Y[index:])\n",
    "                X_train.extend(X)\n",
    "                Y_train.extend(Y)\n",
    "\n",
    "        except Exception as e:\n",
    "            print(f\"Skipping {ticker} due to an error: {e}\")\n",
    "\n",
    "    X_train = np.array(X_train)\n",
    "    Y_train = np.array(Y_train)\n",
    "\n",
    "    return X_train, Y_train\n",
    "\n",
    "def build_and_train_model(X_train, y_train):\n",
    "    model = Sequential([\n",
    "        LSTM(64, return_sequences=True, input_shape=(X_train.shape[1], X_train.shape[2])),\n",
    "        BatchNormalization(),\n",
    "        LSTM(32),\n",
    "        Dense(1)  # Regression output\n",
    "    ])\n",
    "    model.compile(optimizer='adam', loss='mse')\n",
    "    model.fit(X_train, y_train, epochs=50, batch_size=16, validation_split=0.2)\n",
    "    return model\n",
    "\n",
    "def predict_and_decide(tickers, tf, buy):\n",
    "    # Ensure tickers is a numpy array\n",
    "    tickers = np.array(tickers)\n",
    "    timeframe = tf\n",
    "    \n",
    "    # Prepare training data\n",
    "    X_train, y_train = build_training_data(tickers, timeframe)\n",
    "    \n",
    "    # Check if training data is prepared\n",
    "    if len(X_train) == 0 or len(y_train) == 0:\n",
    "        print(\"Training data is empty. Ensure the tickers array is valid and data was processed correctly.\")\n",
    "        return np.array([])\n",
    "\n",
    "    # Build and train the model\n",
    "    model = build_and_train_model(X_train, y_train)\n",
    "\n",
    "    # Initialize a list to store the results\n",
    "    feature_columns = ['Close', 'EMA_50', 'EMA_200', 'SMA_50', 'SMA_200', 'RSI']\n",
    "    time_steps = 60\n",
    "    scaler = MinMaxScaler()\n",
    "    predictions = []\n",
    "\n",
    "    for ticker in tickers:\n",
    "        try:\n",
    "            # Download the latest data for the ticker\n",
    "            data = import_data(ticker, timeframe)\n",
    "            \n",
    "            # Scale feature columns\n",
    "            data[feature_columns] = scaler.fit_transform(data[feature_columns])\n",
    "            \n",
    "            # Extract the last `time_steps` rows for prediction\n",
    "            if len(data) >= time_steps:\n",
    "                last_data = data[feature_columns].iloc[-time_steps:].values\n",
    "                last_data = np.expand_dims(last_data, axis=0)  # Reshape for LSTM input\n",
    "                \n",
    "                # Make a prediction\n",
    "                predicted_change = model.predict(last_data)[0][0]\n",
    "                predictions.append((ticker, predicted_change))\n",
    "            else:\n",
    "                print(f\"Not enough data for {ticker} to make a prediction.\")\n",
    "        except Exception as e:\n",
    "            print(f\"Skipping {ticker} due to an error: {e}\")\n",
    "\n",
    "    # Sort predictions by predicted price change in descending order\n",
    "    predictions.sort(key=lambda x: x[1], reverse=True)\n",
    "    \n",
    "    # Extract tickers and predictions into separate arrays\n",
    "    sorted_tickers = np.array([item[0] for item in predictions])\n",
    "    y_pred = np.array([item[1] for item in predictions])\n",
    "    \n",
    "    # Generate buy or sell signals based on the buy flag\n",
    "    if buy:\n",
    "        selected_tickers = sorted_tickers[y_pred > 0]  # Buy if predicted change > 0\n",
    "    else:\n",
    "        selected_tickers = sorted_tickers[y_pred <= 0]  # Sell if predicted change <= 0\n",
    "\n",
    "    return selected_tickers"
   ]
  },
  {
   "cell_type": "code",
   "execution_count": 20,
   "metadata": {},
   "outputs": [],
   "source": [
    "def backtest(model, tickers, start_date, feature_columns, time_steps=60):\n",
    "    capital = 10000  # Starting capital\n",
    "    equity_curve = [capital]\n",
    "    current_capital = capital\n",
    "\n",
    "    # Create a combined dataframe for all tickers with predicted values\n",
    "    combined_data = []\n",
    "\n",
    "    for ticker in tickers:\n",
    "        print(f\"Backtesting {ticker}...\")\n",
    "        try:\n",
    "            data = import_data(ticker, startDate=start_date)\n",
    "            data[feature_columns] = scaler.transform(data[feature_columns])\n",
    "            X_test, _ = prepare_lstm_data(data, feature_columns, 'Pct_Change_5D', time_steps)\n",
    "\n",
    "            # Predict and add to combined data\n",
    "            data['Predicted'] = np.nan\n",
    "            for i in range(time_steps, len(data) - 5):\n",
    "                pred = model.predict(X_test[i - time_steps].reshape(1, time_steps, -1), verbose=0)\n",
    "                data.loc[data.index[i], 'Predicted'] = pred\n",
    "            combined_data.append(data)\n",
    "        except Exception as e:\n",
    "            print(f\"Skipping {ticker} due to an error: {e}\")\n",
    "\n",
    "    print(data.index[-1])\n",
    "    for i in range(len(combined_data)):\n",
    "        combined_data[i].index = combined_data[i].index.tz_localize(None)\n",
    "    # Simulate backtesting over the given period\n",
    "    for date in pd.date_range(start=start_date, end=data.index[-1]):\n",
    "        best_stock = None\n",
    "        max_pred = -np.inf\n",
    "\n",
    "        # Find the stock with the highest predicted percent change for the given day\n",
    "        for data in combined_data:\n",
    "            if date in data.index and not pd.isna(data.loc[date, 'Predicted']):\n",
    "                if data.loc[date, 'Predicted'] > max_pred:\n",
    "                    max_pred = data.loc[date, 'Predicted']\n",
    "                    best_stock = data\n",
    "\n",
    "        # \"Buy\" the stock with the highest predicted change\n",
    "        if best_stock is not None:\n",
    "            buy_price = best_stock.loc[date, 'Close']\n",
    "            future_date = date + pd.Timedelta(days=5)\n",
    "            if future_date in best_stock.index:\n",
    "                sell_price = best_stock.loc[future_date, 'Close']\n",
    "                profit = (sell_price - buy_price) / buy_price * current_capital\n",
    "                current_capital += profit\n",
    "                equity_curve.append(current_capital)\n",
    "\n",
    "    return equity_curve"
   ]
  },
  {
   "cell_type": "code",
   "execution_count": 21,
   "metadata": {},
   "outputs": [
    {
     "name": "stderr",
     "output_type": "stream",
     "text": [
      "[*********************100%***********************]  1 of 1 completed\n",
      "[*********************100%***********************]  1 of 1 completed\n",
      "[*********************100%***********************]  1 of 1 completed\n",
      "[*********************100%***********************]  1 of 1 completed\n",
      "[*********************100%***********************]  1 of 1 completed\n",
      "[*********************100%***********************]  1 of 1 completed\n",
      "[*********************100%***********************]  1 of 1 completed\n",
      "[*********************100%***********************]  1 of 1 completed\n",
      "[*********************100%***********************]  1 of 1 completed\n",
      "[*********************100%***********************]  1 of 1 completed\n"
     ]
    },
    {
     "name": "stdout",
     "output_type": "stream",
     "text": [
      "Epoch 1/50\n",
      "117/117 [==============================] - 4s 19ms/step - loss: 0.0094 - val_loss: 0.0022\n",
      "Epoch 2/50\n",
      "117/117 [==============================] - 2s 14ms/step - loss: 0.0042 - val_loss: 0.0027\n",
      "Epoch 3/50\n",
      "117/117 [==============================] - 2s 14ms/step - loss: 0.0039 - val_loss: 0.0036\n",
      "Epoch 4/50\n",
      "117/117 [==============================] - 2s 14ms/step - loss: 0.0036 - val_loss: 0.0027\n",
      "Epoch 5/50\n",
      "117/117 [==============================] - 2s 14ms/step - loss: 0.0031 - val_loss: 0.0039\n",
      "Epoch 6/50\n",
      "117/117 [==============================] - 2s 14ms/step - loss: 0.0031 - val_loss: 0.0045\n",
      "Epoch 7/50\n",
      "117/117 [==============================] - 2s 14ms/step - loss: 0.0031 - val_loss: 0.0034\n",
      "Epoch 8/50\n",
      "117/117 [==============================] - 2s 14ms/step - loss: 0.0029 - val_loss: 0.0044\n",
      "Epoch 9/50\n",
      "117/117 [==============================] - 2s 14ms/step - loss: 0.0030 - val_loss: 0.0036\n",
      "Epoch 10/50\n",
      "117/117 [==============================] - 2s 14ms/step - loss: 0.0028 - val_loss: 0.0025\n",
      "Epoch 11/50\n",
      "117/117 [==============================] - 2s 14ms/step - loss: 0.0028 - val_loss: 0.0021\n",
      "Epoch 12/50\n",
      "117/117 [==============================] - 2s 14ms/step - loss: 0.0027 - val_loss: 0.0026\n",
      "Epoch 13/50\n",
      "117/117 [==============================] - 2s 14ms/step - loss: 0.0026 - val_loss: 0.0036\n",
      "Epoch 14/50\n",
      "117/117 [==============================] - 2s 14ms/step - loss: 0.0026 - val_loss: 0.0039\n",
      "Epoch 15/50\n",
      "117/117 [==============================] - 2s 14ms/step - loss: 0.0027 - val_loss: 0.0034\n",
      "Epoch 16/50\n",
      "117/117 [==============================] - 2s 14ms/step - loss: 0.0024 - val_loss: 0.0032\n",
      "Epoch 17/50\n",
      "117/117 [==============================] - 2s 14ms/step - loss: 0.0024 - val_loss: 0.0028\n",
      "Epoch 18/50\n",
      "117/117 [==============================] - 2s 14ms/step - loss: 0.0025 - val_loss: 0.0019\n",
      "Epoch 19/50\n",
      "117/117 [==============================] - 2s 14ms/step - loss: 0.0026 - val_loss: 0.0020\n",
      "Epoch 20/50\n",
      "117/117 [==============================] - 2s 14ms/step - loss: 0.0024 - val_loss: 0.0027\n",
      "Epoch 21/50\n",
      "117/117 [==============================] - 2s 14ms/step - loss: 0.0024 - val_loss: 0.0024\n",
      "Epoch 22/50\n",
      "117/117 [==============================] - 2s 14ms/step - loss: 0.0024 - val_loss: 0.0019\n",
      "Epoch 23/50\n",
      "117/117 [==============================] - 2s 14ms/step - loss: 0.0024 - val_loss: 0.0022\n",
      "Epoch 24/50\n",
      "117/117 [==============================] - 2s 14ms/step - loss: 0.0024 - val_loss: 0.0020\n",
      "Epoch 25/50\n",
      "117/117 [==============================] - 2s 14ms/step - loss: 0.0023 - val_loss: 0.0033\n",
      "Epoch 26/50\n",
      "117/117 [==============================] - 2s 14ms/step - loss: 0.0025 - val_loss: 0.0024\n",
      "Epoch 27/50\n",
      "117/117 [==============================] - 2s 14ms/step - loss: 0.0022 - val_loss: 0.0022\n",
      "Epoch 28/50\n",
      "117/117 [==============================] - 2s 14ms/step - loss: 0.0023 - val_loss: 0.0031\n",
      "Epoch 29/50\n",
      "117/117 [==============================] - 2s 14ms/step - loss: 0.0024 - val_loss: 0.0023\n",
      "Epoch 30/50\n",
      "117/117 [==============================] - 2s 14ms/step - loss: 0.0022 - val_loss: 0.0023\n",
      "Epoch 31/50\n",
      "117/117 [==============================] - 2s 14ms/step - loss: 0.0022 - val_loss: 0.0019\n",
      "Epoch 32/50\n",
      "117/117 [==============================] - 2s 14ms/step - loss: 0.0022 - val_loss: 0.0020\n",
      "Epoch 33/50\n",
      "117/117 [==============================] - 2s 14ms/step - loss: 0.0023 - val_loss: 0.0024\n",
      "Epoch 34/50\n",
      "117/117 [==============================] - 2s 14ms/step - loss: 0.0021 - val_loss: 0.0032\n",
      "Epoch 35/50\n",
      "117/117 [==============================] - 2s 14ms/step - loss: 0.0022 - val_loss: 0.0023\n",
      "Epoch 36/50\n",
      "117/117 [==============================] - 2s 14ms/step - loss: 0.0021 - val_loss: 0.0023\n",
      "Epoch 37/50\n",
      "117/117 [==============================] - 2s 14ms/step - loss: 0.0022 - val_loss: 0.0023\n",
      "Epoch 38/50\n",
      "117/117 [==============================] - 2s 14ms/step - loss: 0.0021 - val_loss: 0.0035\n",
      "Epoch 39/50\n",
      "117/117 [==============================] - 2s 14ms/step - loss: 0.0021 - val_loss: 0.0028\n",
      "Epoch 40/50\n",
      "117/117 [==============================] - 2s 14ms/step - loss: 0.0020 - val_loss: 0.0018\n",
      "Epoch 41/50\n",
      "117/117 [==============================] - 2s 14ms/step - loss: 0.0021 - val_loss: 0.0024\n",
      "Epoch 42/50\n",
      "117/117 [==============================] - 2s 14ms/step - loss: 0.0022 - val_loss: 0.0020\n",
      "Epoch 43/50\n",
      "117/117 [==============================] - 2s 14ms/step - loss: 0.0020 - val_loss: 0.0024\n",
      "Epoch 44/50\n",
      "117/117 [==============================] - 2s 14ms/step - loss: 0.0020 - val_loss: 0.0022\n",
      "Epoch 45/50\n",
      "117/117 [==============================] - 2s 14ms/step - loss: 0.0021 - val_loss: 0.0021\n",
      "Epoch 46/50\n",
      "117/117 [==============================] - 2s 14ms/step - loss: 0.0019 - val_loss: 0.0024\n",
      "Epoch 47/50\n",
      "117/117 [==============================] - 2s 14ms/step - loss: 0.0019 - val_loss: 0.0018\n",
      "Epoch 48/50\n",
      "117/117 [==============================] - 2s 14ms/step - loss: 0.0019 - val_loss: 0.0026\n",
      "Epoch 49/50\n",
      "117/117 [==============================] - 2s 14ms/step - loss: 0.0019 - val_loss: 0.0020\n",
      "Epoch 50/50\n",
      "117/117 [==============================] - 2s 14ms/step - loss: 0.0020 - val_loss: 0.0022\n"
     ]
    },
    {
     "name": "stderr",
     "output_type": "stream",
     "text": [
      "[*********************100%***********************]  1 of 1 completed\n"
     ]
    },
    {
     "name": "stdout",
     "output_type": "stream",
     "text": [
      "1/1 [==============================] - 0s 485ms/step\n"
     ]
    },
    {
     "name": "stderr",
     "output_type": "stream",
     "text": [
      "[*********************100%***********************]  1 of 1 completed"
     ]
    },
    {
     "name": "stdout",
     "output_type": "stream",
     "text": [
      "1/1 [==============================] - 0s 14ms/step\n"
     ]
    },
    {
     "name": "stderr",
     "output_type": "stream",
     "text": [
      "\n",
      "[*********************100%***********************]  1 of 1 completed\n"
     ]
    },
    {
     "name": "stdout",
     "output_type": "stream",
     "text": [
      "1/1 [==============================] - 0s 13ms/step\n"
     ]
    },
    {
     "name": "stderr",
     "output_type": "stream",
     "text": [
      "[*********************100%***********************]  1 of 1 completed"
     ]
    },
    {
     "name": "stdout",
     "output_type": "stream",
     "text": [
      "1/1 [==============================] - 0s 13ms/step\n"
     ]
    },
    {
     "name": "stderr",
     "output_type": "stream",
     "text": [
      "\n",
      "[*********************100%***********************]  1 of 1 completed"
     ]
    },
    {
     "name": "stdout",
     "output_type": "stream",
     "text": [
      "1/1 [==============================] - 0s 17ms/step\n"
     ]
    },
    {
     "name": "stderr",
     "output_type": "stream",
     "text": [
      "\n",
      "[*********************100%***********************]  1 of 1 completed"
     ]
    },
    {
     "name": "stdout",
     "output_type": "stream",
     "text": [
      "1/1 [==============================] - 0s 13ms/step\n"
     ]
    },
    {
     "name": "stderr",
     "output_type": "stream",
     "text": [
      "\n",
      "[*********************100%***********************]  1 of 1 completed\n"
     ]
    },
    {
     "name": "stdout",
     "output_type": "stream",
     "text": [
      "1/1 [==============================] - 0s 13ms/step\n"
     ]
    },
    {
     "name": "stderr",
     "output_type": "stream",
     "text": [
      "[*********************100%***********************]  1 of 1 completed"
     ]
    },
    {
     "name": "stdout",
     "output_type": "stream",
     "text": [
      "1/1 [==============================] - 0s 14ms/step\n"
     ]
    },
    {
     "name": "stderr",
     "output_type": "stream",
     "text": [
      "\n",
      "[*********************100%***********************]  1 of 1 completed"
     ]
    },
    {
     "name": "stdout",
     "output_type": "stream",
     "text": [
      "1/1 [==============================] - 0s 12ms/step\n"
     ]
    },
    {
     "name": "stderr",
     "output_type": "stream",
     "text": [
      "\n",
      "[*********************100%***********************]  1 of 1 completed"
     ]
    },
    {
     "name": "stdout",
     "output_type": "stream",
     "text": [
      "1/1 [==============================] - 0s 15ms/step\n",
      "['TSLA' 'BABA' 'MSFT' 'JPM' 'AAPL' 'META' 'NVDA' 'NFLX' 'GOOGL']\n"
     ]
    },
    {
     "name": "stderr",
     "output_type": "stream",
     "text": [
      "\n"
     ]
    }
   ],
   "source": [
    "# from sklearn.metrics import roc_auc_score\n",
    "# # start_date = '2022-06-01'\n",
    "# # equity_curve = backtest(model, TICKERS, start_date, feature_columns, time_steps)\n",
    "\n",
    "# # # Plot the equity curve\n",
    "# # plt.plot(equity_curve)\n",
    "# # plt.title('Equity Curve')\n",
    "# # plt.xlabel('Time')\n",
    "# # plt.ylabel('Equity ($)')\n",
    "# # plt.show()\n",
    "\n",
    "# y_pred = model.predict(X_test)\n",
    "# roc_auc = roc_auc_score(Y_test, y_pred)\n",
    "tickers = ['TSLA', 'META', 'BABA', 'NVDA', 'GOOGL', 'MSFT', 'AMZN', 'JPM', 'NFLX', 'AAPL']\n",
    "timeframe = 5\n",
    "print(predict_and_decide(tickers, True))"
   ]
  }
 ],
 "metadata": {
  "kernelspec": {
   "display_name": "Python 3",
   "language": "python",
   "name": "python3"
  },
  "language_info": {
   "codemirror_mode": {
    "name": "ipython",
    "version": 3
   },
   "file_extension": ".py",
   "mimetype": "text/x-python",
   "name": "python",
   "nbconvert_exporter": "python",
   "pygments_lexer": "ipython3",
   "version": "3.11.9"
  }
 },
 "nbformat": 4,
 "nbformat_minor": 2
}
